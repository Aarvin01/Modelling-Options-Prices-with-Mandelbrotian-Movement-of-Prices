{
  "nbformat": 4,
  "nbformat_minor": 0,
  "metadata": {
    "colab": {
      "provenance": []
    },
    "kernelspec": {
      "name": "python3",
      "display_name": "Python 3"
    },
    "language_info": {
      "name": "python"
    }
  },
  "cells": [
    {
      "cell_type": "markdown",
      "source": [
        "**Binomial option pricing**\n",
        "\n",
        "Binomial option pricing is a mathematical model used to evaluate prices of options. This model provides a flexible and straightforward way to account for the fluctuating nature of the underlying asset's price over time, making it possible to estimate the price of options in a risk-neutral world.\n",
        "\n",
        "The binomial model uses a discrete-time framework, dividing the time until the option's expiration into a series of intervals. At each interval, the model assumes that the price of the underlying asset can move to one of two possible\n",
        "values: up or down. This creates a binomial tree of possible asset prices, where each node represents a possible price of the asset at a given point in time.\n",
        "\n",
        "The key equations in the binomial option pricing model include:\n",
        "\n",
        "1. **Price Up and Down Movements:**\n",
        "   - The price moves up to $u \\times S$ or down to $d \\times S$, where $S$ is the current price, $u$ is the multiplier for an up move, and $d$ is the multiplier for a down move.\n",
        "\n",
        "2. **Risk-neutral Probability ($q$):**\n",
        "   - The probability of an up move in a risk-neutral world is calculated as:     $$ q = \\frac{e^{r \\Delta t} - d}{u - d} $$\n",
        "   where $r$ is the risk-free interest rate, $\\Delta t$ is the length of each time interval, and $e$ is the base of the natural logarithm. The probability of a down move is $1 - q$.\n",
        "\n",
        "3. **Option Value at Expiration:**\n",
        "   - For a call option (the right to buy), the value at expiration is:\n",
        "     $$\\max(S_T - K, 0) $$\n",
        "   - For a put option (the right to sell), the value at expiration is:     $$\\max(K - S_T, 0) $$\n",
        "   where $S_T$ is the price of the underlying asset at expiration, and $K$ is the strike price of the option.\n",
        "\n",
        "4. **Option Value Before Expiration:**\n",
        "   - The value of the option at any node before expiration is calculated using the risk-neutral probabilities:\n",
        "     $$V = e^{-r \\Delta t} (qV_{\\text{up}} + (1 - q)V_{\\text{down}})$$\n",
        "\n",
        "   where $V_{\\text{up}}$ and $V_{\\text{down}}$ are the values of the option in the next time step for the up and down price movements, respectively.\n",
        "\n",
        "By applying these equations iteratively from the expiration date back to the present, the binomial model provides the present value of an option based on the expected future price movements of the underlying asset, adjusted for the time value of money. This model is especially useful for American options, which can be exercised at any time before expiration, as it easily accommodates the option's changing value over time.\n"
      ],
      "metadata": {
        "id": "dY0dTRlYe3NC"
      }
    },
    {
      "cell_type": "code",
      "source": [
        "import numpy as np\n",
        "from scipy.stats import norm\n",
        "import matplotlib.pyplot as plt\n"
      ],
      "metadata": {
        "id": "BFRW2pjDe6K0"
      },
      "execution_count": 4,
      "outputs": []
    },
    {
      "cell_type": "code",
      "source": [
        "def binomial_coefficient(n, k):\n",
        "    \"\"\"\n",
        "    Calculates the binomial coefficient, also known as the combination or \"n choose k\".\n",
        "    It represents the number of ways to choose k items from n without regard to order.\n",
        "\n",
        "    Parameters:\n",
        "    n (int): Total number of items.\n",
        "    k (int): Number of items to choose.\n",
        "\n",
        "    Returns:\n",
        "    int: The binomial coefficient of n and k.\n",
        "    \"\"\"\n",
        "    return np.math.factorial(n) / (np.math.factorial(n-k) * np.math.factorial(k))\n",
        "\n"
      ],
      "metadata": {
        "id": "XP8Mr4zcemdL"
      },
      "execution_count": 5,
      "outputs": []
    },
    {
      "cell_type": "code",
      "source": [
        "\n",
        "def binomial_option_pricing(initial_stock_price, strike_price, maturity, annual_interest_rate, volatility, periods):\n",
        "    \"\"\"\n",
        "    Calculates the price of a European call option using the Binomial Option Pricing model.\n",
        "\n",
        "    Parameters:\n",
        "    initial_stock_price (float): The initial price of the underlying stock.\n",
        "    strike_price (float): The strike price of the option.\n",
        "    maturity (float): The time to maturity of the option, in years.\n",
        "    annual_interest_rate (float): The risk-free annual interest rate.\n",
        "    volatility (float): The volatility of the underlying stock.\n",
        "    periods (int): The number of periods for the binomial tree.\n",
        "\n",
        "    Returns:\n",
        "    float: The calculated price of the call option.\n",
        "    \"\"\"\n",
        "    delta_t = maturity / periods\n",
        "    up_factor = np.exp(volatility * np.sqrt(delta_t))\n",
        "    down_factor = np.exp(-volatility * np.sqrt(delta_t))\n",
        "    probability = (np.exp(annual_interest_rate * delta_t) - down_factor) / (up_factor - down_factor)\n",
        "    call_price = 0\n",
        "\n",
        "    for k in range(periods + 1):\n",
        "        probability_k = binomial_coefficient(periods, k) * probability**k * (1-probability)**(periods-k)\n",
        "        stock_price_k = initial_stock_price * (up_factor)**(2*k - periods)\n",
        "        call_price += max(stock_price_k - strike_price, 0) * probability_k\n",
        "\n",
        "    return call_price * np.exp(-annual_interest_rate * maturity)\n",
        "\n",
        "# Parameters for the model\n",
        "initial_stock_price = 50  # Initial stock price (S0)\n",
        "strike_price = 60         # Strike price (K)\n",
        "maturity = 1               # Time to maturity in years (T)\n",
        "annual_interest_rate = 0.06  # Annual interest rate (r)\n",
        "volatility = 0.2           # Stock volatility (sigma)\n",
        "periods = 60               # Number of periods (N)\n",
        "\n",
        "# Calculate option prices\n",
        "call_option_price = binomial_option_pricing(initial_stock_price, strike_price, maturity, annual_interest_rate, volatility, periods)\n",
        "put_option_price = strike_price * np.exp(-annual_interest_rate * maturity) + call_option_price - initial_stock_price  # Put price using put-call parity\n",
        "\n",
        "print(f'Call option price: {call_option_price:.5f}')\n",
        "print(f'Put option price:  {put_option_price:.5f}')\n"
      ],
      "metadata": {
        "colab": {
          "base_uri": "https://localhost:8080/"
        },
        "id": "WJUFE_HAeqdh",
        "outputId": "f19f6eb9-29f4-4019-920e-62f2d69023f9"
      },
      "execution_count": 6,
      "outputs": [
        {
          "output_type": "stream",
          "name": "stdout",
          "text": [
            "Call option price: 1.76131\n",
            "Put option price:  8.26718\n"
          ]
        },
        {
          "output_type": "stream",
          "name": "stderr",
          "text": [
            "<ipython-input-5-e169b794d32f>:13: DeprecationWarning: `np.math` is a deprecated alias for the standard library `math` module (Deprecated Numpy 1.25). Replace usages of `np.math` with `math`\n",
            "  return np.math.factorial(n) / (np.math.factorial(n-k) * np.math.factorial(k))\n"
          ]
        }
      ]
    }
  ]
}