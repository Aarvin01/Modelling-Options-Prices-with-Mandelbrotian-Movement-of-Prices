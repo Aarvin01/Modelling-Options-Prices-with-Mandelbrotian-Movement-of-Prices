{
 "cells": [
  {
   "cell_type": "markdown",
   "id": "numerical-mixer",
   "metadata": {},
   "source": [
    "# Merton Jump Diffusion Process: Option Pricing with Monte Carlo\n",
    "\n",
    "This notebook describes how to use a Merton jump diffusion process to price European options using Monte Carlo simulation. \n",
    "\n",
    "With the inclusion of a normal compound Poisson process in the geometric Brownian motion and a term added to the risk-neutral drift, the implementation is similar to that of the Black-Scholes model."
   ]
  },
  {
   "cell_type": "markdown",
   "id": "c1d62f6c",
   "metadata": {},
   "source": [
    "### STEP 1. Initialization of the parameter:\n",
    "\n",
    "Establish the parameters, including the jump component parameters (mu_j, sigma_j, lmbda), maturity period (T), spot price (S0), strike price (K), risk-free interest rate (r), dividend rate (q), volatility (sigma), and volatility (sigma).\n",
    "\n",
    "### STEP 2. Compute Risk-Neutral Measure:\n",
    "\n",
    "To guarantee fair option pricing, compute the risk-neutral measure (muRN), which accounts for risk. This entails figuring out the asset's risk-neutral drift.\n",
    "\n",
    "### STEP 3. Monte Carlo Parameters and Initialization:\n",
    "\n",
    "Indicate the relevant Monte Carlo simulation parameters, such as the number of blocks (nblocks) and samples (nsample) per block.\n",
    "\n",
    "Set up arrays with initial values to hold the put and call option prices that have been calculated.\n",
    "\n",
    "### STEP 4. Implementation of Monte Carlo Simulation:\n",
    "\n",
    "Run the loop of the Monte Carlo simulation:\n",
    "For every block in the simulation:\n",
    "Provide random variables for the Merton jump diffusion process's jump and diffusion components.\n",
    "Put the diffusion and leap components together to get the stock price trajectory.\n",
    "Determine each sample's option payoff at maturity.\n",
    "By averaging the discounted payoffs, find the option price for the block.\n",
    "The option prices that were obtained for each block should be kept in the appropriate arrays.\n",
    "\n",
    "### STEP 5. Calculation of the Final Option Price:\n",
    "\n",
    "By summing the prices acquired from each block, determine the final call and put option prices."
   ]
  },
  {
   "cell_type": "code",
   "execution_count": 4,
   "id": "recent-pension",
   "metadata": {},
   "outputs": [
    {
     "name": "stdout",
     "output_type": "stream",
     "text": [
      "The value of the call is: 66.46502\n",
      "The value of the put is:  151.28617\n"
     ]
    }
   ],
   "source": [
    "import numpy as np\n",
    "\n",
    "# Parameters\n",
    "T = 128.0/365.0      # Maturity (in years)\n",
    "S0 = 21730     # Spot price (current price)\n",
    "K = 22200     # Strike price (agreed price for buying or selling)\n",
    "r = 0.05   # Risk-free interest rate\n",
    "q = 0.0   # Dividend rate (rate of return paid on the stock)\n",
    "\n",
    "# Model parameters\n",
    "sigma = 0.02 # Volatility (degree of variation in the stock's price)\n",
    "\n",
    "# Jump component parameters (Normal Compound Poisson Process - NCPP)\n",
    "mu_j = -0.01     # Mean of the jump component\n",
    "sigma_j = 0.02  # Volatility of the jump component\n",
    "lmbda = 0.005     # Jump frequency (intensity of jumps)\n",
    "\n",
    "# Calculate the risk-neutral measure (drift)\n",
    "muRN = r - q - 0.5 * sigma ** 2 - lmbda * (np.exp(mu_j + 0.5 * sigma_j ** 2) - 1)\n",
    "\n",
    "# Monte Carlo parameters\n",
    "nblocks = 30000  # Number of simulation blocks\n",
    "nsample = 10000   # Number of samples per block\n",
    "\n",
    "# Initialize arrays to store option prices\n",
    "Vc_list = np.zeros(nblocks)  # Call option prices\n",
    "Vp_list = np.zeros(nblocks)  # Put option prices\n",
    "\n",
    "# Monte Carlo simulation\n",
    "for i in range(nblocks):\n",
    "    # Generate random variables for the diffusion component\n",
    "    A = muRN * T + sigma * np.sqrt(T) * np.random.normal(size=(1, nsample))\n",
    "    \n",
    "    # Generate random variables for the jump component\n",
    "    N = np.random.poisson(lmbda, size=(1, nsample))\n",
    "    J = mu_j * N + sigma_j * np.sqrt(N) * np.random.normal(size=(1, nsample))\n",
    "    \n",
    "    # Combine diffusion and jump components\n",
    "    X = A + J\n",
    "    \n",
    "    # Compute stock price trajectory\n",
    "    S = S0 * np.exp(X)\n",
    "    \n",
    "    # Calculate option payoffs at maturity\n",
    "    Vc_list[i] = np.exp(-r * T) * np.mean(np.maximum(S - K, 0))  # Call option\n",
    "    Vp_list[i] = np.exp(-r * T) * np.mean(np.maximum(K - S, 0))  # Put option\n",
    "\n",
    "# Calculate final call and put option prices\n",
    "Vc = np.mean(Vc_list)\n",
    "Vp = np.mean(Vp_list)\n",
    "\n",
    "# Print results\n",
    "print('The value of the call is: ' + str(round(Vc, 5)))\n",
    "print('The value of the put is:  ' + str(round(Vp, 5)))\n"
   ]
  },
  {
   "cell_type": "markdown",
   "id": "0cbde72a",
   "metadata": {},
   "source": [
    "Based on a Merton jump diffusion model, the method use Monte Carlo simulation to forecast future prices of European call and put options. In order to estimate option prices, it first creates a number of random scenarios involving movements in stock prices, then adds diffusion and jump components, computes option payoffs for each scenario, and averages the results."
   ]
  }
 ],
 "metadata": {
  "authors": [
   {
    "email": "robin.guilliou@gmail.com",
    "name": "Robin Guilliou"
   }
  ],
  "kernelspec": {
   "display_name": "Python 3 (ipykernel)",
   "language": "python",
   "name": "python3"
  },
  "language_info": {
   "codemirror_mode": {
    "name": "ipython",
    "version": 3
   },
   "file_extension": ".py",
   "mimetype": "text/x-python",
   "name": "python",
   "nbconvert_exporter": "python",
   "pygments_lexer": "ipython3",
   "version": "3.10.9"
  },
  "latex_envs": {
   "LaTeX_envs_menu_present": true,
   "autoclose": false,
   "autocomplete": true,
   "bibliofile": "biblio.bib",
   "cite_by": "apalike",
   "current_citInitial": 1,
   "eqLabelWithNumbers": true,
   "eqNumInitial": 1,
   "hotkeys": {
    "equation": "Ctrl-E",
    "itemize": "Ctrl-I"
   },
   "labels_anchors": false,
   "latex_user_defs": false,
   "report_style_numbering": false,
   "user_envs_cfg": false
  },
  "toc": {
   "base_numbering": 1,
   "nav_menu": {},
   "number_sections": true,
   "sideBar": true,
   "skip_h1_title": false,
   "title_cell": "Table of Contents",
   "title_sidebar": "Contents",
   "toc_cell": false,
   "toc_position": {},
   "toc_section_display": true,
   "toc_window_display": false
  },
  "varInspector": {
   "cols": {
    "lenName": 16,
    "lenType": 16,
    "lenVar": 40
   },
   "kernels_config": {
    "python": {
     "delete_cmd_postfix": "",
     "delete_cmd_prefix": "del ",
     "library": "var_list.py",
     "varRefreshCmd": "print(var_dic_list())"
    },
    "r": {
     "delete_cmd_postfix": ") ",
     "delete_cmd_prefix": "rm(",
     "library": "var_list.r",
     "varRefreshCmd": "cat(var_dic_list()) "
    }
   },
   "types_to_exclude": [
    "module",
    "function",
    "builtin_function_or_method",
    "instance",
    "_Feature"
   ],
   "window_display": false
  }
 },
 "nbformat": 4,
 "nbformat_minor": 5
}
